{
 "cells": [
  {
   "cell_type": "code",
   "execution_count": 1,
   "metadata": {},
   "outputs": [
    {
     "name": "stdout",
     "output_type": "stream",
     "text": [
      "Requirement already up-to-date: deepposekit in c:\\users\\pranavm\\anaconda3\\lib\\site-packages (0.3.4)\n",
      "Requirement already satisfied, skipping upgrade: numpy in c:\\users\\pranavm\\anaconda3\\lib\\site-packages (from deepposekit) (1.17.2)\n",
      "Requirement already satisfied, skipping upgrade: opencv-python in c:\\users\\pranavm\\anaconda3\\lib\\site-packages (from deepposekit) (4.1.1.26)\n",
      "Requirement already satisfied, skipping upgrade: imgaug>=0.2.9 in c:\\users\\pranavm\\anaconda3\\lib\\site-packages (from deepposekit) (0.3.0)\n",
      "Requirement already satisfied, skipping upgrade: h5py in c:\\users\\pranavm\\anaconda3\\lib\\site-packages (from deepposekit) (2.9.0)\n",
      "Requirement already satisfied, skipping upgrade: pandas in c:\\users\\pranavm\\anaconda3\\lib\\site-packages (from deepposekit) (0.25.2)\n",
      "Requirement already satisfied, skipping upgrade: matplotlib in c:\\users\\pranavm\\anaconda3\\lib\\site-packages (from deepposekit) (3.1.1)\n",
      "Requirement already satisfied, skipping upgrade: Shapely in c:\\users\\pranavm\\anaconda3\\lib\\site-packages (from imgaug>=0.2.9->deepposekit) (1.6.4.post2)\n",
      "Requirement already satisfied, skipping upgrade: opencv-python-headless in c:\\users\\pranavm\\anaconda3\\lib\\site-packages (from imgaug>=0.2.9->deepposekit) (4.1.1.26)\n",
      "Requirement already satisfied, skipping upgrade: scipy in c:\\users\\pranavm\\anaconda3\\lib\\site-packages (from imgaug>=0.2.9->deepposekit) (1.3.1)\n",
      "Requirement already satisfied, skipping upgrade: six in c:\\users\\pranavm\\anaconda3\\lib\\site-packages (from imgaug>=0.2.9->deepposekit) (1.12.0)\n",
      "Requirement already satisfied, skipping upgrade: imageio in c:\\users\\pranavm\\anaconda3\\lib\\site-packages (from imgaug>=0.2.9->deepposekit) (2.6.1)\n",
      "Requirement already satisfied, skipping upgrade: scikit-image>=0.14.2 in c:\\users\\pranavm\\anaconda3\\lib\\site-packages (from imgaug>=0.2.9->deepposekit) (0.15.0)\n",
      "Requirement already satisfied, skipping upgrade: Pillow in c:\\users\\pranavm\\anaconda3\\lib\\site-packages (from imgaug>=0.2.9->deepposekit) (6.2.1)\n",
      "Requirement already satisfied, skipping upgrade: python-dateutil>=2.6.1 in c:\\users\\pranavm\\anaconda3\\lib\\site-packages (from pandas->deepposekit) (2.8.0)\n",
      "Requirement already satisfied, skipping upgrade: pytz>=2017.2 in c:\\users\\pranavm\\anaconda3\\lib\\site-packages (from pandas->deepposekit) (2019.3)\n",
      "Requirement already satisfied, skipping upgrade: cycler>=0.10 in c:\\users\\pranavm\\anaconda3\\lib\\site-packages (from matplotlib->deepposekit) (0.10.0)\n",
      "Requirement already satisfied, skipping upgrade: kiwisolver>=1.0.1 in c:\\users\\pranavm\\anaconda3\\lib\\site-packages (from matplotlib->deepposekit) (1.1.0)\n",
      "Requirement already satisfied, skipping upgrade: pyparsing!=2.0.4,!=2.1.2,!=2.1.6,>=2.0.1 in c:\\users\\pranavm\\anaconda3\\lib\\site-packages (from matplotlib->deepposekit) (2.4.2)\n",
      "Requirement already satisfied, skipping upgrade: networkx>=2.0 in c:\\users\\pranavm\\anaconda3\\lib\\site-packages (from scikit-image>=0.14.2->imgaug>=0.2.9->deepposekit) (2.4)\n",
      "Requirement already satisfied, skipping upgrade: PyWavelets>=0.4.0 in c:\\users\\pranavm\\anaconda3\\lib\\site-packages (from scikit-image>=0.14.2->imgaug>=0.2.9->deepposekit) (1.1.1)\n",
      "Requirement already satisfied, skipping upgrade: setuptools in c:\\users\\pranavm\\anaconda3\\lib\\site-packages (from kiwisolver>=1.0.1->matplotlib->deepposekit) (41.6.0.post20191030)\n",
      "Requirement already satisfied, skipping upgrade: decorator>=4.3.0 in c:\\users\\pranavm\\anaconda3\\lib\\site-packages (from networkx>=2.0->scikit-image>=0.14.2->imgaug>=0.2.9->deepposekit) (4.4.1)\n"
     ]
    }
   ],
   "source": [
    "import sys\n",
    "!{sys.executable} -m pip install -U deepposekit"
   ]
  },
  {
   "cell_type": "code",
   "execution_count": 2,
   "metadata": {},
   "outputs": [],
   "source": [
    "from deepposekit import Annotator\n",
    "from os.path import expanduser\n",
    "import glob\n",
    "HOME = expanduser(\"~\")"
   ]
  },
  {
   "cell_type": "code",
   "execution_count": 3,
   "metadata": {},
   "outputs": [
    {
     "name": "stderr",
     "output_type": "stream",
     "text": [
      "fatal: destination path 'C:\\Users\\PranavM/Documents/RamanLab/deepposekit-data' already exists and is not an empty directory.\n"
     ]
    }
   ],
   "source": [
    "!git clone https://github.com/jgraving/deepposekit-data {HOME +'/Documents/RamanLab' + '/deepposekit-data'}"
   ]
  },
  {
   "cell_type": "code",
   "execution_count": 7,
   "metadata": {},
   "outputs": [],
   "source": [
    "app = Annotator(datapath=HOME +'/Documents/RamanLab' + '/deepposekit-data/datasets/locust/annotation_data_release.h5',\n",
    "                dataset='images',\n",
    "                skeleton=HOME +'/Documents/RamanLab' + '/deepposekit-data/datasets/locust/skeleton.csv',\n",
    "                shuffle_colors=False,\n",
    "                text_scale=0.2)"
   ]
  },
  {
   "cell_type": "code",
   "execution_count": null,
   "metadata": {},
   "outputs": [],
   "source": [
    "app.run()"
   ]
  }
 ],
 "metadata": {
  "kernelspec": {
   "display_name": "Python 3",
   "language": "python",
   "name": "python3"
  },
  "language_info": {
   "codemirror_mode": {
    "name": "ipython",
    "version": 3
   },
   "file_extension": ".py",
   "mimetype": "text/x-python",
   "name": "python",
   "nbconvert_exporter": "python",
   "pygments_lexer": "ipython3",
   "version": "3.7.4"
  }
 },
 "nbformat": 4,
 "nbformat_minor": 2
}
