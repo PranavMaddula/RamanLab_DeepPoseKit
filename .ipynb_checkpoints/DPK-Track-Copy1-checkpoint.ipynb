{
 "cells": [
  {
   "cell_type": "markdown",
   "metadata": {},
   "source": [
    "This notebook shows you how to use your trained model to make predictions on a novel video, detect outliers, merge the outliers with the existing annotation set, and visualize the data output."
   ]
  },
  {
   "cell_type": "code",
   "execution_count": 1,
   "metadata": {},
   "outputs": [
    {
     "name": "stdout",
     "output_type": "stream",
     "text": [
      "Requirement already up-to-date: deepposekit in c:\\users\\pranavm\\anaconda3\\lib\\site-packages (0.3.4)\n",
      "Requirement already satisfied, skipping upgrade: imgaug>=0.2.9 in c:\\users\\pranavm\\anaconda3\\lib\\site-packages (from deepposekit) (0.3.0)\n",
      "Requirement already satisfied, skipping upgrade: opencv-python in c:\\users\\pranavm\\anaconda3\\lib\\site-packages (from deepposekit) (4.1.1.26)\n",
      "Requirement already satisfied, skipping upgrade: matplotlib in c:\\users\\pranavm\\anaconda3\\lib\\site-packages (from deepposekit) (3.1.1)\n",
      "Requirement already satisfied, skipping upgrade: numpy in c:\\users\\pranavm\\anaconda3\\lib\\site-packages (from deepposekit) (1.17.3)\n",
      "Requirement already satisfied, skipping upgrade: pandas in c:\\users\\pranavm\\anaconda3\\lib\\site-packages (from deepposekit) (0.25.3)\n",
      "Requirement already satisfied, skipping upgrade: h5py in c:\\users\\pranavm\\anaconda3\\lib\\site-packages (from deepposekit) (2.9.0)\n",
      "Requirement already satisfied, skipping upgrade: Pillow in c:\\users\\pranavm\\anaconda3\\lib\\site-packages (from imgaug>=0.2.9->deepposekit) (6.2.1)\n",
      "Requirement already satisfied, skipping upgrade: opencv-python-headless in c:\\users\\pranavm\\anaconda3\\lib\\site-packages (from imgaug>=0.2.9->deepposekit) (4.1.1.26)\n",
      "Requirement already satisfied, skipping upgrade: Shapely in c:\\users\\pranavm\\anaconda3\\lib\\site-packages (from imgaug>=0.2.9->deepposekit) (1.6.4.post2)\n",
      "Requirement already satisfied, skipping upgrade: imageio in c:\\users\\pranavm\\anaconda3\\lib\\site-packages (from imgaug>=0.2.9->deepposekit) (2.4.1)\n",
      "Requirement already satisfied, skipping upgrade: scikit-image>=0.14.2 in c:\\users\\pranavm\\anaconda3\\lib\\site-packages (from imgaug>=0.2.9->deepposekit) (0.16.2)\n",
      "Requirement already satisfied, skipping upgrade: six in c:\\users\\pranavm\\anaconda3\\lib\\site-packages (from imgaug>=0.2.9->deepposekit) (1.13.0)\n",
      "Requirement already satisfied, skipping upgrade: scipy in c:\\users\\pranavm\\anaconda3\\lib\\site-packages (from imgaug>=0.2.9->deepposekit) (1.3.1)\n",
      "Requirement already satisfied, skipping upgrade: cycler>=0.10 in c:\\users\\pranavm\\anaconda3\\lib\\site-packages (from matplotlib->deepposekit) (0.10.0)\n",
      "Requirement already satisfied, skipping upgrade: kiwisolver>=1.0.1 in c:\\users\\pranavm\\anaconda3\\lib\\site-packages (from matplotlib->deepposekit) (1.1.0)\n",
      "Requirement already satisfied, skipping upgrade: pyparsing!=2.0.4,!=2.1.2,!=2.1.6,>=2.0.1 in c:\\users\\pranavm\\anaconda3\\lib\\site-packages (from matplotlib->deepposekit) (2.4.4)\n",
      "Requirement already satisfied, skipping upgrade: python-dateutil>=2.1 in c:\\users\\pranavm\\anaconda3\\lib\\site-packages (from matplotlib->deepposekit) (2.8.1)\n",
      "Requirement already satisfied, skipping upgrade: pytz>=2017.2 in c:\\users\\pranavm\\anaconda3\\lib\\site-packages (from pandas->deepposekit) (2019.3)\n",
      "Requirement already satisfied, skipping upgrade: networkx>=2.0 in c:\\users\\pranavm\\anaconda3\\lib\\site-packages (from scikit-image>=0.14.2->imgaug>=0.2.9->deepposekit) (2.4)\n",
      "Requirement already satisfied, skipping upgrade: PyWavelets>=0.4.0 in c:\\users\\pranavm\\anaconda3\\lib\\site-packages (from scikit-image>=0.14.2->imgaug>=0.2.9->deepposekit) (1.1.1)\n",
      "Requirement already satisfied, skipping upgrade: setuptools in c:\\users\\pranavm\\anaconda3\\lib\\site-packages (from kiwisolver>=1.0.1->matplotlib->deepposekit) (41.6.0.post20191030)\n",
      "Requirement already satisfied, skipping upgrade: decorator>=4.3.0 in c:\\users\\pranavm\\anaconda3\\lib\\site-packages (from networkx>=2.0->scikit-image>=0.14.2->imgaug>=0.2.9->deepposekit) (4.4.1)\n"
     ]
    }
   ],
   "source": [
    "import sys\n",
    "!{sys.executable} -m pip install -U deepposekit"
   ]
  },
  {
   "cell_type": "code",
   "execution_count": 2,
   "metadata": {},
   "outputs": [],
   "source": [
    "import numpy as np\n",
    "import matplotlib.pyplot as plt\n",
    "import cv2\n",
    "import glob\n",
    "\n",
    "from deepposekit.models import load_model\n",
    "from deepposekit.io import DataGenerator, VideoReader, VideoWriter\n",
    "from deepposekit.io.utils import merge_new_images\n",
    "\n",
    "import tqdm\n",
    "import time\n",
    "\n",
    "from scipy.signal import find_peaks\n",
    "\n",
    "from os.path import expanduser\n",
    "try:\n",
    "    import google.colab\n",
    "    IN_COLAB = True\n",
    "except:\n",
    "    IN_COLAB = False\n",
    "\n",
    "HOME = expanduser(\"~\") if not IN_COLAB else '.'\n",
    "HOME = HOME +'/Documents/RamanLab'"
   ]
  },
  {
   "cell_type": "markdown",
   "metadata": {},
   "source": [
    "Load Trained Model"
   ]
  },
  {
   "cell_type": "code",
   "execution_count": 3,
   "metadata": {},
   "outputs": [],
   "source": [
    "model = load_model(HOME + '/deepposekit-data/datasets/locust/best_model_densenet.h5')"
   ]
  },
  {
   "cell_type": "code",
   "execution_count": 4,
   "metadata": {},
   "outputs": [
    {
     "data": {
      "text/plain": [
       "['C:\\\\Users\\\\PranavM/Documents/RamanLab/Data\\\\1.mp4',\n",
       " 'C:\\\\Users\\\\PranavM/Documents/RamanLab/Data\\\\WIN_20191009_11_00_36_Pro.mp4',\n",
       " 'C:\\\\Users\\\\PranavM/Documents/RamanLab/Data\\\\WIN_20191015_12_07_05_Pro.mp4',\n",
       " 'C:\\\\Users\\\\PranavM/Documents/RamanLab/Data\\\\crop.mp4']"
      ]
     },
     "execution_count": 4,
     "metadata": {},
     "output_type": "execute_result"
    }
   ],
   "source": [
    "videos = sorted(glob.glob(HOME + '/Data/*.mp4'))\n",
    "videos"
   ]
  },
  {
   "cell_type": "markdown",
   "metadata": {},
   "source": [
    "Test Video"
   ]
  },
  {
   "cell_type": "code",
   "execution_count": 5,
   "metadata": {},
   "outputs": [
    {
     "data": {
      "text/plain": [
       "True"
      ]
     },
     "execution_count": 5,
     "metadata": {},
     "output_type": "execute_result"
    }
   ],
   "source": [
    "reader = VideoReader(HOME + '/Data/crop.mp4', batch_size=10, gray=True)\n",
    "frames = reader[0]\n",
    "reader.close()"
   ]
  },
  {
   "cell_type": "code",
   "execution_count": 6,
   "metadata": {},
   "outputs": [
    {
     "data": {
      "image/png": "[encoded data removed]",
      "text/plain": [
       "<Figure size 432x288 with 1 Axes>"
      ]
     },
     "metadata": {
      "needs_background": "light"
     },
     "output_type": "display_data"
    }
   ],
   "source": [
    "plt.imshow(frames[0,...,0], cmap='gray')\n",
    "plt.show()"
   ]
  },
  {
   "cell_type": "markdown",
   "metadata": {},
   "source": [
    "Make Predictions on Full Video"
   ]
  },
  {
   "cell_type": "code",
   "execution_count": 7,
   "metadata": {},
   "outputs": [
    {
     "ename": "ValueError",
     "evalue": "Error when checking input: expected input_1 to have shape (160, 160, 1) but got array with shape (512, 512, 1)",
     "output_type": "error",
     "traceback": [
      "\u001b[1;31m---------------------------------------------------------------------------\u001b[0m",
      "\u001b[1;31mValueError\u001b[0m                                Traceback (most recent call last)",
      "\u001b[1;32m<ipython-input-7-d79f7abc10a7>\u001b[0m in \u001b[0;36m<module>\u001b[1;34m\u001b[0m\n\u001b[0;32m      1\u001b[0m \u001b[0mreader\u001b[0m \u001b[1;33m=\u001b[0m \u001b[0mVideoReader\u001b[0m\u001b[1;33m(\u001b[0m\u001b[0mHOME\u001b[0m \u001b[1;33m+\u001b[0m \u001b[1;34m'/Data/crop.mp4'\u001b[0m\u001b[1;33m,\u001b[0m \u001b[0mbatch_size\u001b[0m\u001b[1;33m=\u001b[0m\u001b[1;36m50\u001b[0m\u001b[1;33m,\u001b[0m \u001b[0mgray\u001b[0m\u001b[1;33m=\u001b[0m\u001b[1;32mTrue\u001b[0m\u001b[1;33m)\u001b[0m\u001b[1;33m\u001b[0m\u001b[1;33m\u001b[0m\u001b[0m\n\u001b[1;32m----> 2\u001b[1;33m \u001b[0mpredictions\u001b[0m \u001b[1;33m=\u001b[0m \u001b[0mmodel\u001b[0m\u001b[1;33m.\u001b[0m\u001b[0mpredict\u001b[0m\u001b[1;33m(\u001b[0m\u001b[0mreader\u001b[0m\u001b[1;33m,\u001b[0m \u001b[0mverbose\u001b[0m\u001b[1;33m=\u001b[0m\u001b[1;36m1\u001b[0m\u001b[1;33m)\u001b[0m\u001b[1;33m\u001b[0m\u001b[1;33m\u001b[0m\u001b[0m\n\u001b[0m\u001b[0;32m      3\u001b[0m \u001b[0mreader\u001b[0m\u001b[1;33m.\u001b[0m\u001b[0mclose\u001b[0m\u001b[1;33m(\u001b[0m\u001b[1;33m)\u001b[0m\u001b[1;33m\u001b[0m\u001b[1;33m\u001b[0m\u001b[0m\n",
      "\u001b[1;32m~\\Anaconda3\\lib\\site-packages\\tensorflow_core\\python\\keras\\engine\\training.py\u001b[0m in \u001b[0;36mpredict\u001b[1;34m(self, x, batch_size, verbose, steps, callbacks, max_queue_size, workers, use_multiprocessing)\u001b[0m\n\u001b[0;32m    907\u001b[0m         \u001b[0mmax_queue_size\u001b[0m\u001b[1;33m=\u001b[0m\u001b[0mmax_queue_size\u001b[0m\u001b[1;33m,\u001b[0m\u001b[1;33m\u001b[0m\u001b[1;33m\u001b[0m\u001b[0m\n\u001b[0;32m    908\u001b[0m         \u001b[0mworkers\u001b[0m\u001b[1;33m=\u001b[0m\u001b[0mworkers\u001b[0m\u001b[1;33m,\u001b[0m\u001b[1;33m\u001b[0m\u001b[1;33m\u001b[0m\u001b[0m\n\u001b[1;32m--> 909\u001b[1;33m         use_multiprocessing=use_multiprocessing)\n\u001b[0m\u001b[0;32m    910\u001b[0m \u001b[1;33m\u001b[0m\u001b[0m\n\u001b[0;32m    911\u001b[0m   \u001b[1;32mdef\u001b[0m \u001b[0mreset_metrics\u001b[0m\u001b[1;33m(\u001b[0m\u001b[0mself\u001b[0m\u001b[1;33m)\u001b[0m\u001b[1;33m:\u001b[0m\u001b[1;33m\u001b[0m\u001b[1;33m\u001b[0m\u001b[0m\n",
      "\u001b[1;32m~\\Anaconda3\\lib\\site-packages\\tensorflow_core\\python\\keras\\engine\\training_generator.py\u001b[0m in \u001b[0;36mpredict\u001b[1;34m(self, model, x, batch_size, verbose, steps, callbacks, max_queue_size, workers, use_multiprocessing)\u001b[0m\n\u001b[0;32m    646\u001b[0m         \u001b[0mmax_queue_size\u001b[0m\u001b[1;33m=\u001b[0m\u001b[0mmax_queue_size\u001b[0m\u001b[1;33m,\u001b[0m\u001b[1;33m\u001b[0m\u001b[1;33m\u001b[0m\u001b[0m\n\u001b[0;32m    647\u001b[0m         \u001b[0mworkers\u001b[0m\u001b[1;33m=\u001b[0m\u001b[0mworkers\u001b[0m\u001b[1;33m,\u001b[0m\u001b[1;33m\u001b[0m\u001b[1;33m\u001b[0m\u001b[0m\n\u001b[1;32m--> 648\u001b[1;33m         use_multiprocessing=use_multiprocessing)\n\u001b[0m\u001b[0;32m    649\u001b[0m \u001b[1;33m\u001b[0m\u001b[0m\n\u001b[0;32m    650\u001b[0m \u001b[1;33m\u001b[0m\u001b[0m\n",
      "\u001b[1;32m~\\Anaconda3\\lib\\site-packages\\tensorflow_core\\python\\keras\\engine\\training_generator.py\u001b[0m in \u001b[0;36mmodel_iteration\u001b[1;34m(model, data, steps_per_epoch, epochs, verbose, callbacks, validation_data, validation_steps, validation_freq, class_weight, max_queue_size, workers, use_multiprocessing, shuffle, initial_epoch, mode, batch_size, steps_name, **kwargs)\u001b[0m\n\u001b[0;32m    263\u001b[0m \u001b[1;33m\u001b[0m\u001b[0m\n\u001b[0;32m    264\u001b[0m       \u001b[0mis_deferred\u001b[0m \u001b[1;33m=\u001b[0m \u001b[1;32mnot\u001b[0m \u001b[0mmodel\u001b[0m\u001b[1;33m.\u001b[0m\u001b[0m_is_compiled\u001b[0m\u001b[1;33m\u001b[0m\u001b[1;33m\u001b[0m\u001b[0m\n\u001b[1;32m--> 265\u001b[1;33m       \u001b[0mbatch_outs\u001b[0m \u001b[1;33m=\u001b[0m \u001b[0mbatch_function\u001b[0m\u001b[1;33m(\u001b[0m\u001b[1;33m*\u001b[0m\u001b[0mbatch_data\u001b[0m\u001b[1;33m)\u001b[0m\u001b[1;33m\u001b[0m\u001b[1;33m\u001b[0m\u001b[0m\n\u001b[0m\u001b[0;32m    266\u001b[0m       \u001b[1;32mif\u001b[0m \u001b[1;32mnot\u001b[0m \u001b[0misinstance\u001b[0m\u001b[1;33m(\u001b[0m\u001b[0mbatch_outs\u001b[0m\u001b[1;33m,\u001b[0m \u001b[0mlist\u001b[0m\u001b[1;33m)\u001b[0m\u001b[1;33m:\u001b[0m\u001b[1;33m\u001b[0m\u001b[1;33m\u001b[0m\u001b[0m\n\u001b[0;32m    267\u001b[0m         \u001b[0mbatch_outs\u001b[0m \u001b[1;33m=\u001b[0m \u001b[1;33m[\u001b[0m\u001b[0mbatch_outs\u001b[0m\u001b[1;33m]\u001b[0m\u001b[1;33m\u001b[0m\u001b[1;33m\u001b[0m\u001b[0m\n",
      "\u001b[1;32m~\\Anaconda3\\lib\\site-packages\\tensorflow_core\\python\\keras\\engine\\training_generator.py\u001b[0m in \u001b[0;36mpredict_on_batch\u001b[1;34m(x, y, sample_weights)\u001b[0m\n\u001b[0;32m    533\u001b[0m     \u001b[1;31m# 1, 2, or 3-tuples from generator\u001b[0m\u001b[1;33m\u001b[0m\u001b[1;33m\u001b[0m\u001b[1;33m\u001b[0m\u001b[0m\n\u001b[0;32m    534\u001b[0m     \u001b[1;32mdef\u001b[0m \u001b[0mpredict_on_batch\u001b[0m\u001b[1;33m(\u001b[0m\u001b[0mx\u001b[0m\u001b[1;33m,\u001b[0m \u001b[0my\u001b[0m\u001b[1;33m=\u001b[0m\u001b[1;32mNone\u001b[0m\u001b[1;33m,\u001b[0m \u001b[0msample_weights\u001b[0m\u001b[1;33m=\u001b[0m\u001b[1;32mNone\u001b[0m\u001b[1;33m)\u001b[0m\u001b[1;33m:\u001b[0m  \u001b[1;31m# pylint: disable=unused-argument\u001b[0m\u001b[1;33m\u001b[0m\u001b[1;33m\u001b[0m\u001b[0m\n\u001b[1;32m--> 535\u001b[1;33m       \u001b[1;32mreturn\u001b[0m \u001b[0mmodel\u001b[0m\u001b[1;33m.\u001b[0m\u001b[0mpredict_on_batch\u001b[0m\u001b[1;33m(\u001b[0m\u001b[0mx\u001b[0m\u001b[1;33m)\u001b[0m\u001b[1;33m\u001b[0m\u001b[1;33m\u001b[0m\u001b[0m\n\u001b[0m\u001b[0;32m    536\u001b[0m \u001b[1;33m\u001b[0m\u001b[0m\n\u001b[0;32m    537\u001b[0m     \u001b[0mf\u001b[0m \u001b[1;33m=\u001b[0m \u001b[0mpredict_on_batch\u001b[0m\u001b[1;33m\u001b[0m\u001b[1;33m\u001b[0m\u001b[0m\n",
      "\u001b[1;32m~\\Anaconda3\\lib\\site-packages\\tensorflow_core\\python\\keras\\engine\\training.py\u001b[0m in \u001b[0;36mpredict_on_batch\u001b[1;34m(self, x)\u001b[0m\n\u001b[0;32m   1142\u001b[0m     \u001b[1;31m# Validate and standardize user data.\u001b[0m\u001b[1;33m\u001b[0m\u001b[1;33m\u001b[0m\u001b[1;33m\u001b[0m\u001b[0m\n\u001b[0;32m   1143\u001b[0m     inputs, _, _ = self._standardize_user_data(\n\u001b[1;32m-> 1144\u001b[1;33m         x, extract_tensors_from_dataset=True)\n\u001b[0m\u001b[0;32m   1145\u001b[0m     \u001b[1;31m# If `self._distribution_strategy` is True, then we are in a replica context\u001b[0m\u001b[1;33m\u001b[0m\u001b[1;33m\u001b[0m\u001b[1;33m\u001b[0m\u001b[0m\n\u001b[0;32m   1146\u001b[0m     \u001b[1;31m# at this point.\u001b[0m\u001b[1;33m\u001b[0m\u001b[1;33m\u001b[0m\u001b[1;33m\u001b[0m\u001b[0m\n",
      "\u001b[1;32m~\\Anaconda3\\lib\\site-packages\\tensorflow_core\\python\\keras\\engine\\training.py\u001b[0m in \u001b[0;36m_standardize_user_data\u001b[1;34m(self, x, y, sample_weight, class_weight, batch_size, check_steps, steps_name, steps, validation_split, shuffle, extract_tensors_from_dataset)\u001b[0m\n\u001b[0;32m   2470\u001b[0m           \u001b[0mfeed_input_shapes\u001b[0m\u001b[1;33m,\u001b[0m\u001b[1;33m\u001b[0m\u001b[1;33m\u001b[0m\u001b[0m\n\u001b[0;32m   2471\u001b[0m           \u001b[0mcheck_batch_axis\u001b[0m\u001b[1;33m=\u001b[0m\u001b[1;32mFalse\u001b[0m\u001b[1;33m,\u001b[0m  \u001b[1;31m# Don't enforce the batch size.\u001b[0m\u001b[1;33m\u001b[0m\u001b[1;33m\u001b[0m\u001b[0m\n\u001b[1;32m-> 2472\u001b[1;33m           exception_prefix='input')\n\u001b[0m\u001b[0;32m   2473\u001b[0m \u001b[1;33m\u001b[0m\u001b[0m\n\u001b[0;32m   2474\u001b[0m     \u001b[1;31m# Get typespecs for the input data and sanitize it if necessary.\u001b[0m\u001b[1;33m\u001b[0m\u001b[1;33m\u001b[0m\u001b[1;33m\u001b[0m\u001b[0m\n",
      "\u001b[1;32m~\\Anaconda3\\lib\\site-packages\\tensorflow_core\\python\\keras\\engine\\training_utils.py\u001b[0m in \u001b[0;36mstandardize_input_data\u001b[1;34m(data, names, shapes, check_batch_axis, exception_prefix)\u001b[0m\n\u001b[0;32m    572\u001b[0m                              \u001b[1;34m': expected '\u001b[0m \u001b[1;33m+\u001b[0m \u001b[0mnames\u001b[0m\u001b[1;33m[\u001b[0m\u001b[0mi\u001b[0m\u001b[1;33m]\u001b[0m \u001b[1;33m+\u001b[0m \u001b[1;34m' to have shape '\u001b[0m \u001b[1;33m+\u001b[0m\u001b[1;33m\u001b[0m\u001b[1;33m\u001b[0m\u001b[0m\n\u001b[0;32m    573\u001b[0m                              \u001b[0mstr\u001b[0m\u001b[1;33m(\u001b[0m\u001b[0mshape\u001b[0m\u001b[1;33m)\u001b[0m \u001b[1;33m+\u001b[0m \u001b[1;34m' but got array with shape '\u001b[0m \u001b[1;33m+\u001b[0m\u001b[1;33m\u001b[0m\u001b[1;33m\u001b[0m\u001b[0m\n\u001b[1;32m--> 574\u001b[1;33m                              str(data_shape))\n\u001b[0m\u001b[0;32m    575\u001b[0m   \u001b[1;32mreturn\u001b[0m \u001b[0mdata\u001b[0m\u001b[1;33m\u001b[0m\u001b[1;33m\u001b[0m\u001b[0m\n\u001b[0;32m    576\u001b[0m \u001b[1;33m\u001b[0m\u001b[0m\n",
      "\u001b[1;31mValueError\u001b[0m: Error when checking input: expected input_1 to have shape (160, 160, 1) but got array with shape (512, 512, 1)"
     ]
    }
   ],
   "source": [
    "reader = VideoReader(HOME + '/Data/crop.mp4', batch_size=50, gray=True)\n",
    "model = \n",
    "predictions = model.predict(reader, verbose=1)\n",
    "reader.close()"
   ]
  },
  {
   "cell_type": "markdown",
   "metadata": {},
   "source": [
    "Save Data"
   ]
  },
  {
   "cell_type": "code",
   "execution_count": null,
   "metadata": {},
   "outputs": [],
   "source": [
    "np.save(HOME + '/deepposekit-data/datasets/locust/predictions.npy', predictions)"
   ]
  },
  {
   "cell_type": "code",
   "execution_count": null,
   "metadata": {},
   "outputs": [],
   "source": [
    "x, y, confidence = np.split(predictions, 3, -1)"
   ]
  },
  {
   "cell_type": "code",
   "execution_count": null,
   "metadata": {},
   "outputs": [],
   "source": [
    "data_generator = DataGenerator(HOME + '/deepposekit-data/datasets/locust/annotation_data_release.h5')\n",
    "\n",
    "image = frames[0]\n",
    "keypoints = predictions[0]\n",
    "\n",
    "plt.figure(figsize=(5,5))\n",
    "image = image if image.shape[-1] is 3 else image[..., 0]\n",
    "cmap = None if image.shape[-1] is 3 else 'gray'\n",
    "plt.imshow(image, cmap=cmap, interpolation='none')\n",
    "for idx, jdx in enumerate(data_generator.graph):\n",
    "    if jdx > -1:\n",
    "        plt.plot(\n",
    "            [keypoints[idx, 0], keypoints[jdx, 0]],\n",
    "            [keypoints[idx, 1], keypoints[jdx, 1]],\n",
    "            'r-'\n",
    "        )\n",
    "plt.scatter(keypoints[:, 0], keypoints[:, 1],\n",
    "            c=np.arange(data_generator.keypoints_shape[0]),\n",
    "            s=50, cmap=plt.cm.hsv, zorder=3)\n",
    "\n",
    "plt.show()"
   ]
  },
  {
   "cell_type": "markdown",
   "metadata": {},
   "source": [
    "Detect Outlier Frames"
   ]
  },
  {
   "cell_type": "code",
   "execution_count": null,
   "metadata": {},
   "outputs": [],
   "source": [
    "confidence_diff = np.abs(np.diff(confidence.mean(-1).mean(-1)))\n",
    "\n",
    "plt.figure(figsize=(15, 3))\n",
    "plt.plot(confidence_diff)\n",
    "plt.show()"
   ]
  },
  {
   "cell_type": "code",
   "execution_count": null,
   "metadata": {},
   "outputs": [],
   "source": [
    "confidence_outlier_peaks = find_peaks(confidence_diff, height=0.1)[0]\n",
    "\n",
    "plt.figure(figsize=(15, 3))\n",
    "plt.plot(confidence_diff)\n",
    "plt.plot(confidence_outlier_peaks, confidence_diff[confidence_outlier_peaks], 'ro')\n",
    "plt.show()"
   ]
  },
  {
   "cell_type": "code",
   "execution_count": null,
   "metadata": {},
   "outputs": [],
   "source": [
    "time_diff = np.diff(predictions[..., :2], axis=0)\n",
    "time_diff = np.abs(time_diff.reshape(time_diff.shape[0], -1))\n",
    "time_diff = time_diff.mean(-1)\n",
    "time_diff.shape"
   ]
  },
  {
   "cell_type": "code",
   "execution_count": null,
   "metadata": {},
   "outputs": [],
   "source": [
    "plt.figure(figsize=(15, 3))\n",
    "plt.plot(time_diff)\n",
    "plt.show()"
   ]
  },
  {
   "cell_type": "code",
   "execution_count": null,
   "metadata": {},
   "outputs": [],
   "source": [
    "time_diff_outlier_peaks = find_peaks(time_diff, height=10)[0]\n",
    "\n",
    "plt.figure(figsize=(15, 3))\n",
    "plt.plot(time_diff)\n",
    "plt.plot(time_diff_outlier_peaks, time_diff[time_diff_outlier_peaks], 'ro')\n",
    "plt.show()"
   ]
  },
  {
   "cell_type": "code",
   "execution_count": null,
   "metadata": {},
   "outputs": [],
   "source": [
    "outlier_index = np.concatenate((confidence_outlier_peaks, time_diff_outlier_peaks))\n",
    "outlier_index = np.unique(outlier_index) # make sure there are no repeats"
   ]
  },
  {
   "cell_type": "code",
   "execution_count": null,
   "metadata": {},
   "outputs": [],
   "source": [
    "reader = VideoReader(HOME + '/Data/crop.mp4', batch_size=1, gray=True)\n",
    "\n",
    "outlier_images = []\n",
    "outlier_keypoints = []\n",
    "for idx in outlier_index:\n",
    "    outlier_images.append(reader[idx])\n",
    "    outlier_keypoints.append(predictions[idx])\n",
    "\n",
    "outlier_images = np.concatenate(outlier_images)\n",
    "outlier_keypoints = np.stack(outlier_keypoints)\n",
    "\n",
    "reader.close()\n",
    "\n",
    "outlier_images.shape, outlier_keypoints.shape"
   ]
  },
  {
   "cell_type": "code",
   "execution_count": null,
   "metadata": {},
   "outputs": [],
   "source": [
    "data_generator = DataGenerator(HOME + '/deepposekit-data/datasets/locust/annotation_data_release.h5')\n",
    "\n",
    "for idx in range(5):\n",
    "    image = outlier_images[idx]\n",
    "    keypoints = outlier_keypoints[idx]\n",
    "\n",
    "    plt.figure(figsize=(5,5))\n",
    "    image = image if image.shape[-1] is 3 else image[..., 0]\n",
    "    cmap = None if image.shape[-1] is 3 else 'gray'\n",
    "    plt.imshow(image, cmap=cmap, interpolation='none')\n",
    "    for idx, jdx in enumerate(data_generator.graph):\n",
    "        if jdx > -1:\n",
    "            plt.plot(\n",
    "                [keypoints[idx, 0], keypoints[jdx, 0]],\n",
    "                [keypoints[idx, 1], keypoints[jdx, 1]],\n",
    "                'r-'\n",
    "            )\n",
    "    plt.scatter(keypoints[:, 0], keypoints[:, 1],\n",
    "                c=np.arange(data_generator.keypoints_shape[0]),\n",
    "                s=50, cmap=plt.cm.hsv, zorder=3)\n",
    "\n",
    "    plt.show()"
   ]
  },
  {
   "cell_type": "markdown",
   "metadata": {},
   "source": [
    "Add outliers to Annotation Set"
   ]
  },
  {
   "cell_type": "code",
   "execution_count": null,
   "metadata": {},
   "outputs": [],
   "source": [
    "merge_new_images(\n",
    "    datapath=HOME + '/deepposekit-data/datasets/locust/annotation_data_release.h5',\n",
    "    merged_datapath=HOME + '/deepposekit-data/datasets/locust/annotation_data_release_merged.h5',\n",
    "    images=outlier_images,\n",
    "    keypoints=outlier_keypoints,\n",
    "    # overwrite=True # This overwrites the merged dataset if it already exists\n",
    ")"
   ]
  },
  {
   "cell_type": "code",
   "execution_count": null,
   "metadata": {},
   "outputs": [],
   "source": [
    "merged_generator = DataGenerator(HOME + '/deepposekit-data/datasets/locust/annotation_data_release_merged.h5', mode=\"unannotated\")\n",
    "\n",
    "image, keypoints = merged_generator[0]\n",
    "\n",
    "plt.figure(figsize=(5,5))\n",
    "image = image[0] if image.shape[-1] is 3 else image[0, ..., 0]\n",
    "cmap = None if image.shape[-1] is 3 else 'gray'\n",
    "plt.imshow(image, cmap=cmap, interpolation='none')\n",
    "for idx, jdx in enumerate(data_generator.graph):\n",
    "    if jdx > -1:\n",
    "        plt.plot(\n",
    "            [keypoints[0, idx, 0], keypoints[0, jdx, 0]],\n",
    "            [keypoints[0, idx, 1], keypoints[0, jdx, 1]],\n",
    "            'r-'\n",
    "        )\n",
    "plt.scatter(keypoints[0, :, 0], keypoints[0, :, 1], c=np.arange(data_generator.keypoints_shape[0]), s=50, cmap=plt.cm.hsv, zorder=3)\n",
    "\n",
    "plt.show()"
   ]
  },
  {
   "cell_type": "code",
   "execution_count": null,
   "metadata": {},
   "outputs": [],
   "source": [
    "data_generator = DataGenerator(HOME + '/deepposekit-data/datasets/locust/annotation_data_release.h5')\n",
    "predictions = predictions[...,:2]\n",
    "predictions *= 2\n",
    "\n",
    "resized_shape = (data_generator.image_shape[0]*2, data_generator.image_shape[1]*2)\n",
    "cmap = plt.cm.hsv(np.linspace(0, 1, data_generator.keypoints_shape[0]))[:, :3][:, ::-1] * 255\n",
    "\n",
    "writer = VideoWriter(HOME + '/Data/posture.mp4', (192*2,192*2), 'MP4V', 30.0)\n",
    "reader = VideoReader(HOME + '/Data/crop.mp4', batch_size=1)\n",
    "\n",
    "for frame, keypoints in tqdm.tqdm(zip(reader, predictions)):\n",
    "    frame = frame[0]\n",
    "    frame = frame.copy()\n",
    "    frame = cv2.resize(frame, resized_shape)\n",
    "    for idx, node in enumerate(data_generator.graph):\n",
    "        if node >= 0:\n",
    "            pt1 = keypoints[idx]\n",
    "            pt2 = keypoints[node]\n",
    "            cv2.line(frame, (pt1[0], pt1[1]), (pt2[0], pt2[1]), (0,0,255), 2, cv2.LINE_AA)\n",
    "    for idx, keypoint in enumerate(keypoints):\n",
    "        keypoint = keypoint.astype(int)\n",
    "        cv2.circle(frame, (keypoint[0], keypoint[1]), 5, tuple(cmap[idx]), -1, lineType=cv2.LINE_AA)\n",
    "        \n",
    "    writer.write(frame)\n",
    "\n",
    "writer.close()\n",
    "reader.close()"
   ]
  },
  {
   "cell_type": "code",
   "execution_count": null,
   "metadata": {},
   "outputs": [],
   "source": [
    "plt.imshow(frame[...,::-1])\n",
    "plt.show()"
   ]
  }
 ],
 "metadata": {
  "kernelspec": {
   "display_name": "Python 3",
   "language": "python",
   "name": "python3"
  },
  "language_info": {
   "codemirror_mode": {
    "name": "ipython",
    "version": 3
   },
   "file_extension": ".py",
   "mimetype": "text/x-python",
   "name": "python",
   "nbconvert_exporter": "python",
   "pygments_lexer": "ipython3",
   "version": "3.7.5"
  }
 },
 "nbformat": 4,
 "nbformat_minor": 2
}
