{
 "cells": [
  {
   "cell_type": "code",
   "execution_count": 16,
   "metadata": {},
   "outputs": [],
   "source": [
    "from os.path import expanduser\n",
    "import glob\n",
    "import numpy as np\n",
    "HOME = expanduser(\"~\")"
   ]
  },
  {
   "cell_type": "code",
   "execution_count": 10,
   "metadata": {},
   "outputs": [],
   "source": [
    "import h5py\n",
    "\n",
    "f = h5py.File(HOME +'/Documents/RamanLab' + '/deepposekit-data/datasets/locust/annotation_data_release.h5')"
   ]
  },
  {
   "cell_type": "code",
   "execution_count": 11,
   "metadata": {},
   "outputs": [
    {
     "name": "stdout",
     "output_type": "stream",
     "text": [
      "annotated\n",
      "annotations\n",
      "images\n",
      "skeleton\n"
     ]
    }
   ],
   "source": [
    "for key in f.keys():\n",
    "    print(key) #Names of the groups in HDF5 file."
   ]
  },
  {
   "cell_type": "code",
   "execution_count": 18,
   "metadata": {},
   "outputs": [
    {
     "name": "stdout",
     "output_type": "stream",
     "text": [
      "(700, 160, 160, 1)\n",
      "(700, 35)\n"
     ]
    }
   ],
   "source": [
    "import h5py\n",
    "f1 = h5py.File(HOME +'/Documents/RamanLab' + '/deepposekit-data/datasets/locust/annotation_data_release.h5', 'r')\n",
    "list(f1.keys())\n",
    "X1 = f1['images']\n",
    "y1=f1['annotated']\n",
    "df1= np.array(X1.value)\n",
    "dfy1= np.array(y1.value)\n",
    "print (df1.shape)\n",
    "print (dfy1.shape)\n",
    "f1.close()"
   ]
  }
 ],
 "metadata": {
  "kernelspec": {
   "display_name": "Python 3",
   "language": "python",
   "name": "python3"
  },
  "language_info": {
   "codemirror_mode": {
    "name": "ipython",
    "version": 3
   },
   "file_extension": ".py",
   "mimetype": "text/x-python",
   "name": "python",
   "nbconvert_exporter": "python",
   "pygments_lexer": "ipython3",
   "version": "3.7.5"
  }
 },
 "nbformat": 4,
 "nbformat_minor": 2
}
