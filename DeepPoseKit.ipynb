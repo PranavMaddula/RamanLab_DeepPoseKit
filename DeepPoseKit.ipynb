{
 "cells": [
  {
   "cell_type": "markdown",
   "metadata": {},
   "source": [
    "From https://github.com/jgraving/DeepPoseKit"
   ]
  },
  {
   "cell_type": "code",
   "execution_count": 4,
   "metadata": {},
   "outputs": [
    {
     "name": "stdout",
     "output_type": "stream",
     "text": [
      "Requirement already up-to-date: deepposekit in c:\\users\\pranavm\\anaconda3\\lib\\site-packages (0.3.4)\n",
      "Requirement already satisfied, skipping upgrade: imgaug>=0.2.9 in c:\\users\\pranavm\\anaconda3\\lib\\site-packages (from deepposekit) (0.3.0)\n",
      "Requirement already satisfied, skipping upgrade: numpy in c:\\users\\pranavm\\anaconda3\\lib\\site-packages (from deepposekit) (1.17.2)\n",
      "Requirement already satisfied, skipping upgrade: opencv-python in c:\\users\\pranavm\\anaconda3\\lib\\site-packages (from deepposekit) (4.1.1.26)\n",
      "Requirement already satisfied, skipping upgrade: h5py in c:\\users\\pranavm\\anaconda3\\lib\\site-packages (from deepposekit) (2.9.0)\n",
      "Requirement already satisfied, skipping upgrade: matplotlib in c:\\users\\pranavm\\anaconda3\\lib\\site-packages (from deepposekit) (3.1.1)\n",
      "Requirement already satisfied, skipping upgrade: pandas in c:\\users\\pranavm\\anaconda3\\lib\\site-packages (from deepposekit) (0.25.2)\n",
      "Requirement already satisfied, skipping upgrade: imageio in c:\\users\\pranavm\\anaconda3\\lib\\site-packages (from imgaug>=0.2.9->deepposekit) (2.6.1)\n",
      "Requirement already satisfied, skipping upgrade: six in c:\\users\\pranavm\\anaconda3\\lib\\site-packages (from imgaug>=0.2.9->deepposekit) (1.12.0)\n",
      "Requirement already satisfied, skipping upgrade: scikit-image>=0.14.2 in c:\\users\\pranavm\\anaconda3\\lib\\site-packages (from imgaug>=0.2.9->deepposekit) (0.15.0)\n",
      "Requirement already satisfied, skipping upgrade: opencv-python-headless in c:\\users\\pranavm\\anaconda3\\lib\\site-packages (from imgaug>=0.2.9->deepposekit) (4.1.1.26)\n",
      "Requirement already satisfied, skipping upgrade: scipy in c:\\users\\pranavm\\anaconda3\\lib\\site-packages (from imgaug>=0.2.9->deepposekit) (1.3.1)\n",
      "Requirement already satisfied, skipping upgrade: Pillow in c:\\users\\pranavm\\anaconda3\\lib\\site-packages (from imgaug>=0.2.9->deepposekit) (6.2.1)\n",
      "Requirement already satisfied, skipping upgrade: Shapely in c:\\users\\pranavm\\anaconda3\\lib\\site-packages (from imgaug>=0.2.9->deepposekit) (1.6.4.post2)\n",
      "Requirement already satisfied, skipping upgrade: cycler>=0.10 in c:\\users\\pranavm\\anaconda3\\lib\\site-packages (from matplotlib->deepposekit) (0.10.0)\n",
      "Requirement already satisfied, skipping upgrade: kiwisolver>=1.0.1 in c:\\users\\pranavm\\anaconda3\\lib\\site-packages (from matplotlib->deepposekit) (1.1.0)\n",
      "Requirement already satisfied, skipping upgrade: pyparsing!=2.0.4,!=2.1.2,!=2.1.6,>=2.0.1 in c:\\users\\pranavm\\anaconda3\\lib\\site-packages (from matplotlib->deepposekit) (2.4.2)\n",
      "Requirement already satisfied, skipping upgrade: python-dateutil>=2.1 in c:\\users\\pranavm\\anaconda3\\lib\\site-packages (from matplotlib->deepposekit) (2.8.0)\n",
      "Requirement already satisfied, skipping upgrade: pytz>=2017.2 in c:\\users\\pranavm\\anaconda3\\lib\\site-packages (from pandas->deepposekit) (2019.3)\n",
      "Requirement already satisfied, skipping upgrade: networkx>=2.0 in c:\\users\\pranavm\\anaconda3\\lib\\site-packages (from scikit-image>=0.14.2->imgaug>=0.2.9->deepposekit) (2.4)\n",
      "Requirement already satisfied, skipping upgrade: PyWavelets>=0.4.0 in c:\\users\\pranavm\\anaconda3\\lib\\site-packages (from scikit-image>=0.14.2->imgaug>=0.2.9->deepposekit) (1.1.1)\n",
      "Requirement already satisfied, skipping upgrade: setuptools in c:\\users\\pranavm\\anaconda3\\lib\\site-packages (from kiwisolver>=1.0.1->matplotlib->deepposekit) (41.6.0.post20191030)\n",
      "Requirement already satisfied, skipping upgrade: decorator>=4.3.0 in c:\\users\\pranavm\\anaconda3\\lib\\site-packages (from networkx>=2.0->scikit-image>=0.14.2->imgaug>=0.2.9->deepposekit) (4.4.1)\n"
     ]
    }
   ],
   "source": [
    "import sys\n",
    "!{sys.executable} -m pip install -U deepposekit"
   ]
  },
  {
   "cell_type": "code",
   "execution_count": 8,
   "metadata": {},
   "outputs": [],
   "source": [
    "import cv2\n",
    "import h5py\n",
    "import matplotlib.pyplot as plt\n",
    "from deepposekit.io import VideoReader, DataGenerator, initialize_dataset\n",
    "from deepposekit.annotate import KMeansSampler\n",
    "import tqdm\n",
    "import glob\n",
    "import pandas as pd\n",
    "\n",
    "from os.path import expanduser\n",
    "\n",
    "try:\n",
    "    import google.colab\n",
    "    IN_COLAB = True\n",
    "except:\n",
    "    IN_COLAB = False\n",
    "\n",
    "HOME = expanduser(\"~\") if not IN_COLAB else '.'"
   ]
  },
  {
   "cell_type": "code",
   "execution_count": null,
   "metadata": {},
   "outputs": [
    {
     "name": "stderr",
     "output_type": "stream",
     "text": [
      "Cloning into 'C:\\Users\\PranavM/Documents/RamanLab/deepposekit-data'...\n",
      "\n"
     ]
    }
   ],
   "source": [
    "!git clone https://github.com/jgraving/deepposekit-data {HOME +'/Documents/RamanLab' + '/deepposekit-data'}"
   ]
  },
  {
   "cell_type": "code",
   "execution_count": 1,
   "metadata": {},
   "outputs": [
    {
     "name": "stdout",
     "output_type": "stream",
     "text": [
      "[name: \"/device:CPU:0\"\n",
      "device_type: \"CPU\"\n",
      "memory_limit: 268435456\n",
      "locality {\n",
      "}\n",
      "incarnation: 5483033136086055923\n",
      ", name: \"/device:GPU:0\"\n",
      "device_type: \"GPU\"\n",
      "memory_limit: 3149044121\n",
      "locality {\n",
      "  bus_id: 1\n",
      "  links {\n",
      "  }\n",
      "}\n",
      "incarnation: 15836741623337576813\n",
      "physical_device_desc: \"device: 0, name: GeForce GTX 1050, pci bus id: 0000:01:00.0, compute capability: 6.1\"\n",
      "]\n"
     ]
    }
   ],
   "source": []
  },
  {
   "cell_type": "code",
   "execution_count": 2,
   "metadata": {},
   "outputs": [
    {
     "name": "stderr",
     "output_type": "stream",
     "text": [
      "Using TensorFlow backend.\n"
     ]
    },
    {
     "ename": "AttributeError",
     "evalue": "module 'tensorflow' has no attribute 'get_default_session'",
     "output_type": "error",
     "traceback": [
      "\u001b[1;31m---------------------------------------------------------------------------\u001b[0m",
      "\u001b[1;31mAttributeError\u001b[0m                            Traceback (most recent call last)",
      "\u001b[1;32m<ipython-input-2-3d00d838479b>\u001b[0m in \u001b[0;36m<module>\u001b[1;34m\u001b[0m\n\u001b[0;32m      1\u001b[0m \u001b[1;32mfrom\u001b[0m \u001b[0mkeras\u001b[0m \u001b[1;32mimport\u001b[0m \u001b[0mbackend\u001b[0m \u001b[1;32mas\u001b[0m \u001b[0mK\u001b[0m\u001b[1;33m\u001b[0m\u001b[1;33m\u001b[0m\u001b[0m\n\u001b[1;32m----> 2\u001b[1;33m \u001b[0mK\u001b[0m\u001b[1;33m.\u001b[0m\u001b[0mtensorflow_backend\u001b[0m\u001b[1;33m.\u001b[0m\u001b[0m_get_available_gpus\u001b[0m\u001b[1;33m(\u001b[0m\u001b[1;33m)\u001b[0m\u001b[1;33m\u001b[0m\u001b[1;33m\u001b[0m\u001b[0m\n\u001b[0m",
      "\u001b[1;32m~\\Anaconda3\\lib\\site-packages\\keras\\backend\\tensorflow_backend.py\u001b[0m in \u001b[0;36m_get_available_gpus\u001b[1;34m()\u001b[0m\n\u001b[0;32m    276\u001b[0m     \u001b[1;32mglobal\u001b[0m \u001b[0m_LOCAL_DEVICES\u001b[0m\u001b[1;33m\u001b[0m\u001b[1;33m\u001b[0m\u001b[0m\n\u001b[0;32m    277\u001b[0m     \u001b[1;32mif\u001b[0m \u001b[0m_LOCAL_DEVICES\u001b[0m \u001b[1;32mis\u001b[0m \u001b[1;32mNone\u001b[0m\u001b[1;33m:\u001b[0m\u001b[1;33m\u001b[0m\u001b[1;33m\u001b[0m\u001b[0m\n\u001b[1;32m--> 278\u001b[1;33m         \u001b[0m_LOCAL_DEVICES\u001b[0m \u001b[1;33m=\u001b[0m \u001b[0mget_session\u001b[0m\u001b[1;33m(\u001b[0m\u001b[1;33m)\u001b[0m\u001b[1;33m.\u001b[0m\u001b[0mlist_devices\u001b[0m\u001b[1;33m(\u001b[0m\u001b[1;33m)\u001b[0m\u001b[1;33m\u001b[0m\u001b[1;33m\u001b[0m\u001b[0m\n\u001b[0m\u001b[0;32m    279\u001b[0m     \u001b[1;32mreturn\u001b[0m \u001b[1;33m[\u001b[0m\u001b[0mx\u001b[0m\u001b[1;33m.\u001b[0m\u001b[0mname\u001b[0m \u001b[1;32mfor\u001b[0m \u001b[0mx\u001b[0m \u001b[1;32min\u001b[0m \u001b[0m_LOCAL_DEVICES\u001b[0m \u001b[1;32mif\u001b[0m \u001b[0mx\u001b[0m\u001b[1;33m.\u001b[0m\u001b[0mdevice_type\u001b[0m \u001b[1;33m==\u001b[0m \u001b[1;34m'GPU'\u001b[0m\u001b[1;33m]\u001b[0m\u001b[1;33m\u001b[0m\u001b[1;33m\u001b[0m\u001b[0m\n\u001b[0;32m    280\u001b[0m \u001b[1;33m\u001b[0m\u001b[0m\n",
      "\u001b[1;32m~\\Anaconda3\\lib\\site-packages\\keras\\backend\\tensorflow_backend.py\u001b[0m in \u001b[0;36mget_session\u001b[1;34m()\u001b[0m\n\u001b[0;32m    172\u001b[0m     \u001b[1;32mglobal\u001b[0m \u001b[0m_SESSION\u001b[0m\u001b[1;33m\u001b[0m\u001b[1;33m\u001b[0m\u001b[0m\n\u001b[0;32m    173\u001b[0m \u001b[1;33m\u001b[0m\u001b[0m\n\u001b[1;32m--> 174\u001b[1;33m     \u001b[0mdefault_session\u001b[0m \u001b[1;33m=\u001b[0m \u001b[0mtf\u001b[0m\u001b[1;33m.\u001b[0m\u001b[0mget_default_session\u001b[0m\u001b[1;33m(\u001b[0m\u001b[1;33m)\u001b[0m\u001b[1;33m\u001b[0m\u001b[1;33m\u001b[0m\u001b[0m\n\u001b[0m\u001b[0;32m    175\u001b[0m \u001b[1;33m\u001b[0m\u001b[0m\n\u001b[0;32m    176\u001b[0m     \u001b[1;32mif\u001b[0m \u001b[0mdefault_session\u001b[0m \u001b[1;32mis\u001b[0m \u001b[1;32mnot\u001b[0m \u001b[1;32mNone\u001b[0m\u001b[1;33m:\u001b[0m\u001b[1;33m\u001b[0m\u001b[1;33m\u001b[0m\u001b[0m\n",
      "\u001b[1;31mAttributeError\u001b[0m: module 'tensorflow' has no attribute 'get_default_session'"
     ]
    }
   ],
   "source": []
  }
 ],
 "metadata": {
  "kernelspec": {
   "display_name": "Python 3",
   "language": "python",
   "name": "python3"
  },
  "language_info": {
   "codemirror_mode": {
    "name": "ipython",
    "version": 3
   },
   "file_extension": ".py",
   "mimetype": "text/x-python",
   "name": "python",
   "nbconvert_exporter": "python",
   "pygments_lexer": "ipython3",
   "version": "3.7.4"
  }
 },
 "nbformat": 4,
 "nbformat_minor": 2
}
