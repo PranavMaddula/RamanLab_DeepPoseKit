{
 "cells": [
  {
   "cell_type": "code",
   "execution_count": 1,
   "metadata": {},
   "outputs": [
    {
     "name": "stdout",
     "output_type": "stream",
     "text": [
      "Requirement already up-to-date: deepposekit in c:\\users\\pranavm\\anaconda3\\lib\\site-packages (0.3.4)\n",
      "Requirement already satisfied, skipping upgrade: matplotlib in c:\\users\\pranavm\\anaconda3\\lib\\site-packages (from deepposekit) (3.1.1)\n",
      "Requirement already satisfied, skipping upgrade: numpy in c:\\users\\pranavm\\anaconda3\\lib\\site-packages (from deepposekit) (1.17.3)\n",
      "Requirement already satisfied, skipping upgrade: h5py in c:\\users\\pranavm\\anaconda3\\lib\\site-packages (from deepposekit) (2.9.0)\n",
      "Requirement already satisfied, skipping upgrade: imgaug>=0.2.9 in c:\\users\\pranavm\\anaconda3\\lib\\site-packages (from deepposekit) (0.3.0)\n",
      "Requirement already satisfied, skipping upgrade: opencv-python in c:\\users\\pranavm\\anaconda3\\lib\\site-packages (from deepposekit) (4.1.1.26)\n",
      "Requirement already satisfied, skipping upgrade: pandas in c:\\users\\pranavm\\anaconda3\\lib\\site-packages (from deepposekit) (0.25.3)\n",
      "Requirement already satisfied, skipping upgrade: cycler>=0.10 in c:\\users\\pranavm\\anaconda3\\lib\\site-packages (from matplotlib->deepposekit) (0.10.0)\n",
      "Requirement already satisfied, skipping upgrade: kiwisolver>=1.0.1 in c:\\users\\pranavm\\anaconda3\\lib\\site-packages (from matplotlib->deepposekit) (1.1.0)\n",
      "Requirement already satisfied, skipping upgrade: pyparsing!=2.0.4,!=2.1.2,!=2.1.6,>=2.0.1 in c:\\users\\pranavm\\anaconda3\\lib\\site-packages (from matplotlib->deepposekit) (2.4.4)\n",
      "Requirement already satisfied, skipping upgrade: python-dateutil>=2.1 in c:\\users\\pranavm\\anaconda3\\lib\\site-packages (from matplotlib->deepposekit) (2.8.1)\n",
      "Requirement already satisfied, skipping upgrade: six in c:\\users\\pranavm\\anaconda3\\lib\\site-packages (from h5py->deepposekit) (1.13.0)\n",
      "Requirement already satisfied, skipping upgrade: scikit-image>=0.14.2 in c:\\users\\pranavm\\anaconda3\\lib\\site-packages (from imgaug>=0.2.9->deepposekit) (0.16.2)\n",
      "Requirement already satisfied, skipping upgrade: opencv-python-headless in c:\\users\\pranavm\\anaconda3\\lib\\site-packages (from imgaug>=0.2.9->deepposekit) (4.1.1.26)\n",
      "Requirement already satisfied, skipping upgrade: Pillow in c:\\users\\pranavm\\anaconda3\\lib\\site-packages (from imgaug>=0.2.9->deepposekit) (6.2.1)\n",
      "Requirement already satisfied, skipping upgrade: scipy in c:\\users\\pranavm\\anaconda3\\lib\\site-packages (from imgaug>=0.2.9->deepposekit) (1.3.1)\n",
      "Requirement already satisfied, skipping upgrade: Shapely in c:\\users\\pranavm\\anaconda3\\lib\\site-packages (from imgaug>=0.2.9->deepposekit) (1.6.4.post2)\n",
      "Requirement already satisfied, skipping upgrade: imageio in c:\\users\\pranavm\\anaconda3\\lib\\site-packages (from imgaug>=0.2.9->deepposekit) (2.4.1)\n",
      "Requirement already satisfied, skipping upgrade: pytz>=2017.2 in c:\\users\\pranavm\\anaconda3\\lib\\site-packages (from pandas->deepposekit) (2019.3)\n",
      "Requirement already satisfied, skipping upgrade: setuptools in c:\\users\\pranavm\\anaconda3\\lib\\site-packages (from kiwisolver>=1.0.1->matplotlib->deepposekit) (41.6.0.post20191030)\n",
      "Requirement already satisfied, skipping upgrade: networkx>=2.0 in c:\\users\\pranavm\\anaconda3\\lib\\site-packages (from scikit-image>=0.14.2->imgaug>=0.2.9->deepposekit) (2.4)\n",
      "Requirement already satisfied, skipping upgrade: PyWavelets>=0.4.0 in c:\\users\\pranavm\\anaconda3\\lib\\site-packages (from scikit-image>=0.14.2->imgaug>=0.2.9->deepposekit) (1.1.1)\n",
      "Requirement already satisfied, skipping upgrade: decorator>=4.3.0 in c:\\users\\pranavm\\anaconda3\\lib\\site-packages (from networkx>=2.0->scikit-image>=0.14.2->imgaug>=0.2.9->deepposekit) (4.4.1)\n"
     ]
    }
   ],
   "source": [
    "import sys\n",
    "!{sys.executable} -m pip install -U deepposekit"
   ]
  },
  {
   "cell_type": "code",
   "execution_count": 2,
   "metadata": {},
   "outputs": [],
   "source": [
    "from deepposekit import Annotator\n",
    "from os.path import expanduser\n",
    "import glob\n",
    "HOME = expanduser(\"~\")"
   ]
  },
  {
   "cell_type": "markdown",
   "metadata": {},
   "source": [
    "!git clone https://github.com/jgraving/deepposekit-data {HOME +'/Documents/RamanLab' + '/deepposekit-data'}"
   ]
  },
  {
   "cell_type": "code",
   "execution_count": 4,
   "metadata": {},
   "outputs": [
    {
     "name": "stderr",
     "output_type": "stream",
     "text": [
      "C:\\Users\\PranavM\\Anaconda3\\lib\\site-packages\\h5py\\_hl\\dataset.py:313: H5pyDeprecationWarning: dataset.value has been deprecated. Use dataset[()] instead.\n",
      "  \"Use dataset[()] instead.\", H5pyDeprecationWarning)\n"
     ]
    }
   ],
   "source": [
    "app = Annotator(datapath=HOME +'/Documents/RamanLab' + '/deepposekit-data/datasets/locust/annotation_data_release.h5',\n",
    "                dataset='images',\n",
    "                skeleton=HOME +'/Documents/RamanLab' + '/deepposekit-data/datasets/locust/skeleton.csv',\n",
    "                shuffle_colors=False,\n",
    "                text_scale=0.2)"
   ]
  },
  {
   "cell_type": "code",
   "execution_count": 5,
   "metadata": {},
   "outputs": [
    {
     "ename": "KeyboardInterrupt",
     "evalue": "",
     "output_type": "error",
     "traceback": [
      "\u001b[1;31m---------------------------------------------------------------------------\u001b[0m",
      "\u001b[1;31mKeyboardInterrupt\u001b[0m                         Traceback (most recent call last)",
      "\u001b[1;32m<ipython-input-5-b72f3165c8a5>\u001b[0m in \u001b[0;36m<module>\u001b[1;34m\u001b[0m\n\u001b[1;32m----> 1\u001b[1;33m \u001b[0mapp\u001b[0m\u001b[1;33m.\u001b[0m\u001b[0mrun\u001b[0m\u001b[1;33m(\u001b[0m\u001b[1;33m)\u001b[0m\u001b[1;33m\u001b[0m\u001b[1;33m\u001b[0m\u001b[0m\n\u001b[0m",
      "\u001b[1;32m~\\Anaconda3\\lib\\site-packages\\deepposekit\\annotate\\gui\\GUI.py\u001b[0m in \u001b[0;36mrun\u001b[1;34m(self)\u001b[0m\n\u001b[0;32m    644\u001b[0m         \u001b[0mself\u001b[0m\u001b[1;33m.\u001b[0m\u001b[0m_update_canvas\u001b[0m\u001b[1;33m(\u001b[0m\u001b[1;33m)\u001b[0m\u001b[1;33m\u001b[0m\u001b[1;33m\u001b[0m\u001b[0m\n\u001b[0;32m    645\u001b[0m         \u001b[1;32mwhile\u001b[0m \u001b[1;32mTrue\u001b[0m\u001b[1;33m:\u001b[0m\u001b[1;33m\u001b[0m\u001b[1;33m\u001b[0m\u001b[0m\n\u001b[1;32m--> 646\u001b[1;33m             \u001b[0mself\u001b[0m\u001b[1;33m.\u001b[0m\u001b[0mkey\u001b[0m \u001b[1;33m=\u001b[0m \u001b[0mcv2\u001b[0m\u001b[1;33m.\u001b[0m\u001b[0mwaitKey\u001b[0m\u001b[1;33m(\u001b[0m\u001b[0mself\u001b[0m\u001b[1;33m.\u001b[0m\u001b[0mrefresh\u001b[0m\u001b[1;33m)\u001b[0m \u001b[1;33m&\u001b[0m \u001b[1;36m0xFF\u001b[0m\u001b[1;33m\u001b[0m\u001b[1;33m\u001b[0m\u001b[0m\n\u001b[0m\u001b[0;32m    647\u001b[0m             \u001b[0mself\u001b[0m\u001b[1;33m.\u001b[0m\u001b[0m_hotkeys\u001b[0m\u001b[1;33m(\u001b[0m\u001b[1;33m)\u001b[0m\u001b[1;33m\u001b[0m\u001b[1;33m\u001b[0m\u001b[0m\n\u001b[0;32m    648\u001b[0m             \u001b[1;32mif\u001b[0m \u001b[0mself\u001b[0m\u001b[1;33m.\u001b[0m\u001b[0m_exit\u001b[0m\u001b[1;33m(\u001b[0m\u001b[1;33m)\u001b[0m\u001b[1;33m:\u001b[0m\u001b[1;33m\u001b[0m\u001b[1;33m\u001b[0m\u001b[0m\n",
      "\u001b[1;31mKeyboardInterrupt\u001b[0m: "
     ]
    }
   ],
   "source": [
    "app.run()"
   ]
  }
 ],
 "metadata": {
  "kernelspec": {
   "display_name": "Python 3",
   "language": "python",
   "name": "python3"
  },
  "language_info": {
   "codemirror_mode": {
    "name": "ipython",
    "version": 3
   },
   "file_extension": ".py",
   "mimetype": "text/x-python",
   "name": "python",
   "nbconvert_exporter": "python",
   "pygments_lexer": "ipython3",
   "version": "3.7.5"
  }
 },
 "nbformat": 4,
 "nbformat_minor": 2
}
