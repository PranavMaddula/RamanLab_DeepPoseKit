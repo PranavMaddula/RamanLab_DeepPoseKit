{
 "cells": [
  {
   "cell_type": "code",
   "execution_count": 1,
   "metadata": {
    "scrolled": false
   },
   "outputs": [],
   "source": [
    "from moviepy.editor import *"
   ]
  },
  {
   "cell_type": "code",
   "execution_count": 2,
   "metadata": {},
   "outputs": [],
   "source": [
    "import imageio\n",
    "imageio.plugins.ffmpeg.download()"
   ]
  },
  {
   "cell_type": "code",
   "execution_count": 3,
   "metadata": {
    "scrolled": false
   },
   "outputs": [
    {
     "name": "stdout",
     "output_type": "stream",
     "text": [
      "\n",
      "[MoviePy] Running:\n",
      ">>> C:\\Users\\PranavM\\AppData\\Local\\imageio\\ffmpeg\\ffmpeg-win32-v3.2.4.exe -y -i C:/Users/PranavM/Documents/RamanLab/Data/full.mp4 -ss 135.00 -t 60.00 -vcodec copy -acodec copy C:/Users/PranavM/Documents/RamanLab/Data/cut.mp4\n",
      "... command successful.\n"
     ]
    }
   ],
   "source": [
    "from moviepy.video.io.ffmpeg_tools import ffmpeg_extract_subclip\n",
    "ffmpeg_extract_subclip(\"C:/Users/PranavM/Documents/RamanLab/Data/full.mp4\", 135, 195, targetname=\"C:/Users/PranavM/Documents/RamanLab/Data/cut.mp4\")"
   ]
  },
  {
   "cell_type": "code",
   "execution_count": 4,
   "metadata": {
    "scrolled": true
   },
   "outputs": [
    {
     "name": "stdout",
     "output_type": "stream",
     "text": [
      "[MoviePy] >>>> Building video C:/Users/PranavM/Documents/RamanLab/Data/crop.mp4\n",
      "[MoviePy] Writing audio in cropTEMP_MPY_wvf_snd.mp3\n"
     ]
    },
    {
     "name": "stderr",
     "output_type": "stream",
     "text": [
      "100%|████████████████████████████████████████████████████████████████████████████| 1324/1324 [00:01<00:00, 1118.36it/s]\n"
     ]
    },
    {
     "name": "stdout",
     "output_type": "stream",
     "text": [
      "[MoviePy] Done.\n",
      "[MoviePy] Writing video C:/Users/PranavM/Documents/RamanLab/Data/crop.mp4\n"
     ]
    },
    {
     "name": "stderr",
     "output_type": "stream",
     "text": [
      "100%|█████████████████████████████████████████████████████████████████████████████▉| 1800/1801 [00:33<00:00, 54.05it/s]\n"
     ]
    },
    {
     "name": "stdout",
     "output_type": "stream",
     "text": [
      "[MoviePy] Done.\n",
      "[MoviePy] >>>> Video ready: C:/Users/PranavM/Documents/RamanLab/Data/crop.mp4 \n",
      "\n"
     ]
    }
   ],
   "source": [
    "import moviepy.editor as mpy\n",
    "from moviepy.video.fx.all import crop\n",
    "\n",
    "clip = mpy.VideoFileClip(\"C:/Users/PranavM/Documents/RamanLab/Data/cut.mp4\")\n",
    "(w, h) = clip.size\n",
    "cropped_clip = crop(clip, width=512, height=512, x_center=(w/2 + 24), y_center=(h/2 + 32))\n",
    "cropped_clip.write_videofile('C:/Users/PranavM/Documents/RamanLab/Data/crop.mp4')"
   ]
  },
  {
   "cell_type": "code",
   "execution_count": 5,
   "metadata": {},
   "outputs": [],
   "source": [
    "clip.reader.close()\n",
    "clip.audio.reader.close_proc()"
   ]
  }
 ],
 "metadata": {
  "kernelspec": {
   "display_name": "Python 3",
   "language": "python",
   "name": "python3"
  },
  "language_info": {
   "codemirror_mode": {
    "name": "ipython",
    "version": 3
   },
   "file_extension": ".py",
   "mimetype": "text/x-python",
   "name": "python",
   "nbconvert_exporter": "python",
   "pygments_lexer": "ipython3",
   "version": "3.7.5"
  }
 },
 "nbformat": 4,
 "nbformat_minor": 2
}
